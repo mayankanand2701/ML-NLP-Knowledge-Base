{
 "cells": [
  {
   "cell_type": "code",
   "execution_count": 10,
   "id": "73f75ab2",
   "metadata": {},
   "outputs": [],
   "source": [
    "import spacy\n",
    "nlp = spacy.load(\"en_core_web_sm\")  #creating an object and loading the pre-trained model for \"English\""
   ]
  },
  {
   "cell_type": "markdown",
   "id": "a7061654",
   "metadata": {},
   "source": [
    "Excersie: 1\n",
    "    Get all the proper nouns from a given text in a list and also count how many of them.\n",
    "    Proper Noun means a noun that names a particular person, place, or thing"
   ]
  },
  {
   "cell_type": "code",
   "execution_count": 11,
   "id": "8652dd4e",
   "metadata": {},
   "outputs": [],
   "source": [
    "text = '''Ravi and Raju are the best friends from school days.They wanted to go for a world tour and \n",
    "visit famous cities like Paris, London, Dubai, Rome etc and also they called their another friend Mohan to take part of this world tour.\n",
    "They started their journey from Hyderabad and spent next 3 months travelling all the wonderful cities in the world and cherish a happy moments!\n",
    "'''\n",
    "doc = nlp(text)   "
   ]
  },
  {
   "cell_type": "markdown",
   "id": "963c29fa",
   "metadata": {},
   "source": [
    "Expected Output:\n",
    "\n",
    "Proper Nouns: [Ravi, Raju, Paris, London, Dubai, Rome, Mohan, Hyderabad]\n",
    "Count: 8"
   ]
  },
  {
   "cell_type": "code",
   "execution_count": 15,
   "id": "94d48be4",
   "metadata": {},
   "outputs": [],
   "source": [
    "pn=[]\n",
    "for token in doc:\n",
    "  if token.pos_ == \"PROPN\":        #checking the whether token belongs to parts of speech \"PROPN\" [Proper Noun]\n",
    "    pn.append(token)"
   ]
  },
  {
   "cell_type": "code",
   "execution_count": 16,
   "id": "aeaf7db8",
   "metadata": {},
   "outputs": [
    {
     "name": "stdout",
     "output_type": "stream",
     "text": [
      "All Proper Nouns are =  [Raju, Paris, London, Dubai, Rome, Mohan, Hyderabad]\n",
      "The number of Proper Nouns are =  7\n"
     ]
    }
   ],
   "source": [
    "print(\"All Proper Nouns are = \",pn)\n",
    "print(\"The number of Proper Nouns are = \",len(pn))"
   ]
  },
  {
   "cell_type": "markdown",
   "id": "5337664a",
   "metadata": {},
   "source": [
    "Excersie: 2\n",
    "    Get all companies names from a given text and also the count of them."
   ]
  },
  {
   "cell_type": "code",
   "execution_count": 17,
   "id": "5efbc9d8",
   "metadata": {},
   "outputs": [],
   "source": [
    "text = '''The Top 5 companies in USA are Tesla, Walmart, Amazon, Microsoft, Google and the top 5 companies in \n",
    "India are Infosys, Reliance, HDFC Bank, Hindustan Unilever and Bharti Airtel'''\n",
    "doc = nlp(text)"
   ]
  },
  {
   "cell_type": "code",
   "execution_count": 18,
   "id": "8113f599",
   "metadata": {},
   "outputs": [
    {
     "name": "stdout",
     "output_type": "stream",
     "text": [
      "Company Names:  [Tesla, Walmart, Amazon, Microsoft, Google, Infosys, Reliance, HDFC Bank, Hindustan Unilever, Bharti]\n",
      "Count:  10\n"
     ]
    }
   ],
   "source": [
    "all_company_names = []\n",
    "\n",
    "for ent in doc.ents:\n",
    "  if ent.label_ == 'ORG':     #checking the whether token belongs to entity \"ORG\" [Organisation]\n",
    "    all_company_names.append(ent)\n",
    "\n",
    "#finally printing the results\n",
    "print(\"Company Names: \", all_company_names)\n",
    "print(\"Count: \", len(all_company_names))"
   ]
  },
  {
   "cell_type": "code",
   "execution_count": null,
   "id": "6165c592",
   "metadata": {},
   "outputs": [],
   "source": []
  }
 ],
 "metadata": {
  "kernelspec": {
   "display_name": "Python 3 (ipykernel)",
   "language": "python",
   "name": "python3"
  },
  "language_info": {
   "codemirror_mode": {
    "name": "ipython",
    "version": 3
   },
   "file_extension": ".py",
   "mimetype": "text/x-python",
   "name": "python",
   "nbconvert_exporter": "python",
   "pygments_lexer": "ipython3",
   "version": "3.9.1"
  }
 },
 "nbformat": 4,
 "nbformat_minor": 5
}
