{
 "cells": [
  {
   "cell_type": "code",
   "execution_count": 1,
   "id": "18f96990",
   "metadata": {},
   "outputs": [],
   "source": [
    "#let import necessary libraries and create the object\n",
    "\n",
    "#for nltk\n",
    "import nltk\n",
    "from nltk.stem import PorterStemmer\n",
    "stemmer = PorterStemmer()\n",
    "\n",
    "#for spacy\n",
    "import spacy\n",
    "nlp = spacy.load(\"en_core_web_sm\")"
   ]
  },
  {
   "cell_type": "markdown",
   "id": "7c56fe55",
   "metadata": {},
   "source": [
    "Exercise1:\n",
    "\n",
    "Convert these list of words into base form using Stemming and Lemmatization and observe the transformations\n",
    "Write a short note on the words that have different base words using stemming and Lemmatization"
   ]
  },
  {
   "cell_type": "code",
   "execution_count": 2,
   "id": "f5f6d275",
   "metadata": {},
   "outputs": [],
   "source": [
    "# using stemming in nltk\n",
    "lst_words = ['running', 'painting', 'walking', 'dressing', 'likely', 'children', 'whom', 'good', 'ate', 'fishing']"
   ]
  },
  {
   "cell_type": "code",
   "execution_count": 4,
   "id": "869e054e",
   "metadata": {},
   "outputs": [
    {
     "name": "stdout",
     "output_type": "stream",
     "text": [
      "running | run\n",
      "painting | paint\n",
      "walking | walk\n",
      "dressing | dress\n",
      "likely | like\n",
      "children | children\n",
      "whom | whom\n",
      "good | good\n",
      "ate | ate\n",
      "fishing | fish\n"
     ]
    }
   ],
   "source": [
    "for word in lst_words:\n",
    "    print(word, \"|\", stemmer.stem(word))"
   ]
  },
  {
   "cell_type": "code",
   "execution_count": 5,
   "id": "af003715",
   "metadata": {},
   "outputs": [],
   "source": [
    "#using lemmatization in spacy\n",
    "doc = nlp(\"running painting walking dressing likely children who good ate fishing\")"
   ]
  },
  {
   "cell_type": "code",
   "execution_count": 6,
   "id": "7cc83363",
   "metadata": {},
   "outputs": [
    {
     "name": "stdout",
     "output_type": "stream",
     "text": [
      "running  |  run  |  12767647472892411841\n",
      "painting  |  paint  |  16929211676819693673\n",
      "walking  |  walk  |  1674876016505392235\n",
      "dressing  |  dress  |  12815368344456308931\n",
      "likely  |  likely  |  6740298879949941214\n",
      "children  |  child  |  737253710922290542\n",
      "who  |  who  |  3876862883474502309\n",
      "good  |  good  |  5711639017775284443\n",
      "ate  |  eat  |  9837207709914848172\n",
      "fishing  |  fishing  |  10959402079719336560\n"
     ]
    }
   ],
   "source": [
    "for token in doc:\n",
    "    print(token, \" | \", token.lemma_ ,\" | \", token.lemma)"
   ]
  },
  {
   "cell_type": "markdown",
   "id": "c2987bbd",
   "metadata": {},
   "source": [
    "Observations\n",
    "\n",
    "Words that are different in stemming and lemmatization are:\n",
    "\n",
    "painting\n",
    "likely\n",
    "children\n",
    "ate\n",
    "fishing\n",
    "As Stemming achieves the base word by removing the suffixes [ing, ly etc], so it successfully transform the words like 'painting', 'likely', 'fishing' and lemmatization fails for some words ending with suffixes here.\n",
    "\n",
    "As Lemmatization uses the dictionary meanings while converting to the base form, so words like 'children' and 'ate' are successfully transformed and stemming fails here."
   ]
  },
  {
   "cell_type": "markdown",
   "id": "9f5c97fa",
   "metadata": {},
   "source": [
    "Exercise 2:\n",
    "    convert the given text into it's base form using both stemming and lemmatization"
   ]
  },
  {
   "cell_type": "code",
   "execution_count": 7,
   "id": "04cc1bde",
   "metadata": {},
   "outputs": [],
   "source": [
    "text = \"\"\"Latha is very multi talented girl.She is good at many skills like dancing, running, singing, playing.She also likes eating Pav Bhagi. she has a \n",
    "habit of fishing and swimming too.Besides all this, she is a wonderful at cooking too.\n",
    "\"\"\""
   ]
  },
  {
   "cell_type": "code",
   "execution_count": 8,
   "id": "9670495f",
   "metadata": {},
   "outputs": [],
   "source": [
    "#using stemming in nlt\n",
    "#step1: Word tokenizing\n",
    "#step2: getting the base form for each token using stemmer\n",
    "#step3: joining all words in a list into string using 'join()'"
   ]
  },
  {
   "cell_type": "code",
   "execution_count": 13,
   "id": "11368e36",
   "metadata": {},
   "outputs": [
    {
     "data": {
      "text/plain": [
       "['Latha',\n",
       " 'is',\n",
       " 'very',\n",
       " 'multi',\n",
       " 'talented',\n",
       " 'girl.She',\n",
       " 'is',\n",
       " 'good',\n",
       " 'at',\n",
       " 'many',\n",
       " 'skills',\n",
       " 'like',\n",
       " 'dancing',\n",
       " ',',\n",
       " 'running',\n",
       " ',',\n",
       " 'singing',\n",
       " ',',\n",
       " 'playing.She',\n",
       " 'also',\n",
       " 'likes',\n",
       " 'eating',\n",
       " 'Pav',\n",
       " 'Bhagi',\n",
       " '.',\n",
       " 'she',\n",
       " 'has',\n",
       " 'a',\n",
       " 'habit',\n",
       " 'of',\n",
       " 'fishing',\n",
       " 'and',\n",
       " 'swimming',\n",
       " 'too.Besides',\n",
       " 'all',\n",
       " 'this',\n",
       " ',',\n",
       " 'she',\n",
       " 'is',\n",
       " 'a',\n",
       " 'wonderful',\n",
       " 'at',\n",
       " 'cooking',\n",
       " 'too',\n",
       " '.']"
      ]
     },
     "execution_count": 13,
     "metadata": {},
     "output_type": "execute_result"
    }
   ],
   "source": [
    "# step-1\n",
    "all_word_tokens = nltk.word_tokenize(text)\n",
    "all_word_tokens"
   ]
  },
  {
   "cell_type": "code",
   "execution_count": 14,
   "id": "d8cfbf29",
   "metadata": {},
   "outputs": [],
   "source": [
    "#step2: getting the base form for each token using stemmer\n",
    "all_base_words = []\n",
    "\n",
    "for token in all_word_tokens:\n",
    "  base_form = stemmer.stem(token)\n",
    "  all_base_words.append(base_form)"
   ]
  },
  {
   "cell_type": "code",
   "execution_count": 15,
   "id": "58268498",
   "metadata": {},
   "outputs": [
    {
     "name": "stdout",
     "output_type": "stream",
     "text": [
      "latha is veri multi talent girl.sh is good at mani skill like danc , run , sing , playing.sh also like eat pav bhagi . she ha a habit of fish and swim too.besid all thi , she is a wonder at cook too .\n"
     ]
    }
   ],
   "source": [
    "#st\n",
    "final_base_text = ' '.join(all_base_words)\n",
    "print(final_base_text)"
   ]
  },
  {
   "cell_type": "code",
   "execution_count": null,
   "id": "2116f9c2",
   "metadata": {},
   "outputs": [],
   "source": []
  }
 ],
 "metadata": {
  "kernelspec": {
   "display_name": "Python 3 (ipykernel)",
   "language": "python",
   "name": "python3"
  },
  "language_info": {
   "codemirror_mode": {
    "name": "ipython",
    "version": 3
   },
   "file_extension": ".py",
   "mimetype": "text/x-python",
   "name": "python",
   "nbconvert_exporter": "python",
   "pygments_lexer": "ipython3",
   "version": "3.9.1"
  }
 },
 "nbformat": 4,
 "nbformat_minor": 5
}
