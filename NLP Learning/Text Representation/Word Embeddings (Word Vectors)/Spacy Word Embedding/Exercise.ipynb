{
 "cells": [
  {
   "cell_type": "markdown",
   "id": "65da25e7",
   "metadata": {},
   "source": [
    "In this exercise, you are going to classify whether a given text belongs to one of possible classes ['BUSINESS', 'SPORTS', 'CRIME'].\n",
    "\n",
    "you are going to use spacy for pre-processing the text, convert text to numbers and apply different classification algorithms."
   ]
  },
  {
   "cell_type": "code",
   "execution_count": 1,
   "id": "f8270ba2",
   "metadata": {},
   "outputs": [],
   "source": [
    "#import spacy and load the language model downloaded\n",
    "import spacy\n",
    "nlp = spacy.load(\"en_core_web_lg\")"
   ]
  },
  {
   "cell_type": "markdown",
   "id": "8b17c796",
   "metadata": {},
   "source": [
    "This data consists of two columns. - Text - Category\n",
    "Text are the description about a particular topic.\n",
    "Category determine which class the text belongs to.\n",
    "we have classes mainly of 'BUSINESS', 'SPORTS', 'CRIME' and comes under Multi-class classification Problem."
   ]
  },
  {
   "cell_type": "code",
   "execution_count": 3,
   "id": "074888a3",
   "metadata": {},
   "outputs": [
    {
     "data": {
      "text/plain": [
       "(7500, 2)"
      ]
     },
     "execution_count": 3,
     "metadata": {},
     "output_type": "execute_result"
    }
   ],
   "source": [
    "#import pandas library\n",
    "#read the dataset \"news_dataset.json\" provided and load it into dataframe \"df\"\n",
    "#print the shape of data\n",
    "#print the top5 rows\n",
    "import pandas as pd\n",
    "df = pd.read_json('news_dataset.json')\n",
    "df.shape"
   ]
  },
  {
   "cell_type": "code",
   "execution_count": 4,
   "id": "437380c4",
   "metadata": {},
   "outputs": [
    {
     "data": {
      "text/html": [
       "<div>\n",
       "<style scoped>\n",
       "    .dataframe tbody tr th:only-of-type {\n",
       "        vertical-align: middle;\n",
       "    }\n",
       "\n",
       "    .dataframe tbody tr th {\n",
       "        vertical-align: top;\n",
       "    }\n",
       "\n",
       "    .dataframe thead th {\n",
       "        text-align: right;\n",
       "    }\n",
       "</style>\n",
       "<table border=\"1\" class=\"dataframe\">\n",
       "  <thead>\n",
       "    <tr style=\"text-align: right;\">\n",
       "      <th></th>\n",
       "      <th>text</th>\n",
       "      <th>category</th>\n",
       "    </tr>\n",
       "  </thead>\n",
       "  <tbody>\n",
       "    <tr>\n",
       "      <th>0</th>\n",
       "      <td>Larry Nassar Blames His Victims, Says He 'Was ...</td>\n",
       "      <td>CRIME</td>\n",
       "    </tr>\n",
       "    <tr>\n",
       "      <th>1</th>\n",
       "      <td>Woman Beats Cancer, Dies Falling From Horse</td>\n",
       "      <td>CRIME</td>\n",
       "    </tr>\n",
       "    <tr>\n",
       "      <th>2</th>\n",
       "      <td>Vegas Taxpayers Could Spend A Record $750 Mill...</td>\n",
       "      <td>SPORTS</td>\n",
       "    </tr>\n",
       "    <tr>\n",
       "      <th>3</th>\n",
       "      <td>This Richard Sherman Interception Literally Sh...</td>\n",
       "      <td>SPORTS</td>\n",
       "    </tr>\n",
       "    <tr>\n",
       "      <th>4</th>\n",
       "      <td>7 Things That Could Totally Kill Weed Legaliza...</td>\n",
       "      <td>BUSINESS</td>\n",
       "    </tr>\n",
       "  </tbody>\n",
       "</table>\n",
       "</div>"
      ],
      "text/plain": [
       "                                                text  category\n",
       "0  Larry Nassar Blames His Victims, Says He 'Was ...     CRIME\n",
       "1       Woman Beats Cancer, Dies Falling From Horse      CRIME\n",
       "2  Vegas Taxpayers Could Spend A Record $750 Mill...    SPORTS\n",
       "3  This Richard Sherman Interception Literally Sh...    SPORTS\n",
       "4  7 Things That Could Totally Kill Weed Legaliza...  BUSINESS"
      ]
     },
     "execution_count": 4,
     "metadata": {},
     "output_type": "execute_result"
    }
   ],
   "source": [
    "df.head(5)"
   ]
  },
  {
   "cell_type": "code",
   "execution_count": 6,
   "id": "ed534bb4",
   "metadata": {},
   "outputs": [
    {
     "data": {
      "text/plain": [
       "CRIME       2500\n",
       "SPORTS      2500\n",
       "BUSINESS    2500\n",
       "Name: category, dtype: int64"
      ]
     },
     "execution_count": 6,
     "metadata": {},
     "output_type": "execute_result"
    }
   ],
   "source": [
    "#check the distribution of labels \n",
    "df[\"category\"].value_counts()"
   ]
  },
  {
   "cell_type": "code",
   "execution_count": 8,
   "id": "b03266a5",
   "metadata": {},
   "outputs": [
    {
     "data": {
      "text/html": [
       "<div>\n",
       "<style scoped>\n",
       "    .dataframe tbody tr th:only-of-type {\n",
       "        vertical-align: middle;\n",
       "    }\n",
       "\n",
       "    .dataframe tbody tr th {\n",
       "        vertical-align: top;\n",
       "    }\n",
       "\n",
       "    .dataframe thead th {\n",
       "        text-align: right;\n",
       "    }\n",
       "</style>\n",
       "<table border=\"1\" class=\"dataframe\">\n",
       "  <thead>\n",
       "    <tr style=\"text-align: right;\">\n",
       "      <th></th>\n",
       "      <th>text</th>\n",
       "      <th>category</th>\n",
       "      <th>label_num</th>\n",
       "    </tr>\n",
       "  </thead>\n",
       "  <tbody>\n",
       "    <tr>\n",
       "      <th>0</th>\n",
       "      <td>Larry Nassar Blames His Victims, Says He 'Was ...</td>\n",
       "      <td>CRIME</td>\n",
       "      <td>0</td>\n",
       "    </tr>\n",
       "    <tr>\n",
       "      <th>1</th>\n",
       "      <td>Woman Beats Cancer, Dies Falling From Horse</td>\n",
       "      <td>CRIME</td>\n",
       "      <td>0</td>\n",
       "    </tr>\n",
       "    <tr>\n",
       "      <th>2</th>\n",
       "      <td>Vegas Taxpayers Could Spend A Record $750 Mill...</td>\n",
       "      <td>SPORTS</td>\n",
       "      <td>1</td>\n",
       "    </tr>\n",
       "    <tr>\n",
       "      <th>3</th>\n",
       "      <td>This Richard Sherman Interception Literally Sh...</td>\n",
       "      <td>SPORTS</td>\n",
       "      <td>1</td>\n",
       "    </tr>\n",
       "    <tr>\n",
       "      <th>4</th>\n",
       "      <td>7 Things That Could Totally Kill Weed Legaliza...</td>\n",
       "      <td>BUSINESS</td>\n",
       "      <td>2</td>\n",
       "    </tr>\n",
       "  </tbody>\n",
       "</table>\n",
       "</div>"
      ],
      "text/plain": [
       "                                                text  category  label_num\n",
       "0  Larry Nassar Blames His Victims, Says He 'Was ...     CRIME          0\n",
       "1       Woman Beats Cancer, Dies Falling From Horse      CRIME          0\n",
       "2  Vegas Taxpayers Could Spend A Record $750 Mill...    SPORTS          1\n",
       "3  This Richard Sherman Interception Literally Sh...    SPORTS          1\n",
       "4  7 Things That Could Totally Kill Weed Legaliza...  BUSINESS          2"
      ]
     },
     "execution_count": 8,
     "metadata": {},
     "output_type": "execute_result"
    }
   ],
   "source": [
    "#Add the new column \"label_num\" which gives a unique number to each of these labels \n",
    "df[\"label_num\"]=df[\"category\"].map({\"CRIME\":0,\"SPORTS\":1,\"BUSINESS\":2})\n",
    "\n",
    "#check the results with top 5 rows\n",
    "df.head(5)"
   ]
  },
  {
   "cell_type": "code",
   "execution_count": 9,
   "id": "33d6fafa",
   "metadata": {},
   "outputs": [],
   "source": [
    "#use this utility function to preprocess the text\n",
    "#1. Remove the stop words\n",
    "#2. Convert to base form using lemmatisation\n",
    "\n",
    "\n",
    "def preprocess(text):\n",
    "    doc = nlp(text)\n",
    "    filtered_tokens = []\n",
    "    for token in doc:\n",
    "        if token.is_stop or token.is_punct:\n",
    "            continue\n",
    "        filtered_tokens.append(token.lemma_)\n",
    "    return ' '.join(filtered_tokens)"
   ]
  },
  {
   "cell_type": "code",
   "execution_count": 10,
   "id": "cea663b9",
   "metadata": {},
   "outputs": [],
   "source": [
    "#create a new column \"preprocessed_text\" which store the clean form of given text [use apply and lambda function]\n",
    "\n",
    "df['preprocessed_text'] = df['text'].apply(lambda text: preprocess(text))"
   ]
  },
  {
   "cell_type": "code",
   "execution_count": 11,
   "id": "11290e8a",
   "metadata": {},
   "outputs": [
    {
     "data": {
      "text/html": [
       "<div>\n",
       "<style scoped>\n",
       "    .dataframe tbody tr th:only-of-type {\n",
       "        vertical-align: middle;\n",
       "    }\n",
       "\n",
       "    .dataframe tbody tr th {\n",
       "        vertical-align: top;\n",
       "    }\n",
       "\n",
       "    .dataframe thead th {\n",
       "        text-align: right;\n",
       "    }\n",
       "</style>\n",
       "<table border=\"1\" class=\"dataframe\">\n",
       "  <thead>\n",
       "    <tr style=\"text-align: right;\">\n",
       "      <th></th>\n",
       "      <th>text</th>\n",
       "      <th>category</th>\n",
       "      <th>label_num</th>\n",
       "      <th>preprocessed_text</th>\n",
       "    </tr>\n",
       "  </thead>\n",
       "  <tbody>\n",
       "    <tr>\n",
       "      <th>0</th>\n",
       "      <td>Larry Nassar Blames His Victims, Says He 'Was ...</td>\n",
       "      <td>CRIME</td>\n",
       "      <td>0</td>\n",
       "      <td>Larry Nassar blame victim say victimize newly ...</td>\n",
       "    </tr>\n",
       "    <tr>\n",
       "      <th>1</th>\n",
       "      <td>Woman Beats Cancer, Dies Falling From Horse</td>\n",
       "      <td>CRIME</td>\n",
       "      <td>0</td>\n",
       "      <td>woman Beats Cancer die fall horse</td>\n",
       "    </tr>\n",
       "    <tr>\n",
       "      <th>2</th>\n",
       "      <td>Vegas Taxpayers Could Spend A Record $750 Mill...</td>\n",
       "      <td>SPORTS</td>\n",
       "      <td>1</td>\n",
       "      <td>vegas taxpayer spend Record $ 750 million New ...</td>\n",
       "    </tr>\n",
       "    <tr>\n",
       "      <th>3</th>\n",
       "      <td>This Richard Sherman Interception Literally Sh...</td>\n",
       "      <td>SPORTS</td>\n",
       "      <td>1</td>\n",
       "      <td>Richard Sherman Interception literally shake W...</td>\n",
       "    </tr>\n",
       "    <tr>\n",
       "      <th>4</th>\n",
       "      <td>7 Things That Could Totally Kill Weed Legaliza...</td>\n",
       "      <td>BUSINESS</td>\n",
       "      <td>2</td>\n",
       "      <td>7 thing totally kill Weed Legalization Buzz</td>\n",
       "    </tr>\n",
       "  </tbody>\n",
       "</table>\n",
       "</div>"
      ],
      "text/plain": [
       "                                                text  category  label_num  \\\n",
       "0  Larry Nassar Blames His Victims, Says He 'Was ...     CRIME          0   \n",
       "1       Woman Beats Cancer, Dies Falling From Horse      CRIME          0   \n",
       "2  Vegas Taxpayers Could Spend A Record $750 Mill...    SPORTS          1   \n",
       "3  This Richard Sherman Interception Literally Sh...    SPORTS          1   \n",
       "4  7 Things That Could Totally Kill Weed Legaliza...  BUSINESS          2   \n",
       "\n",
       "                                   preprocessed_text  \n",
       "0  Larry Nassar blame victim say victimize newly ...  \n",
       "1                  woman Beats Cancer die fall horse  \n",
       "2  vegas taxpayer spend Record $ 750 million New ...  \n",
       "3  Richard Sherman Interception literally shake W...  \n",
       "4        7 thing totally kill Weed Legalization Buzz  "
      ]
     },
     "execution_count": 11,
     "metadata": {},
     "output_type": "execute_result"
    }
   ],
   "source": [
    "df.head()"
   ]
  },
  {
   "cell_type": "markdown",
   "id": "0c9aaedd",
   "metadata": {},
   "source": [
    "Get the spacy embeddings for each preprocessed text"
   ]
  },
  {
   "cell_type": "code",
   "execution_count": 12,
   "id": "37a63e24",
   "metadata": {},
   "outputs": [
    {
     "data": {
      "text/html": [
       "<div>\n",
       "<style scoped>\n",
       "    .dataframe tbody tr th:only-of-type {\n",
       "        vertical-align: middle;\n",
       "    }\n",
       "\n",
       "    .dataframe tbody tr th {\n",
       "        vertical-align: top;\n",
       "    }\n",
       "\n",
       "    .dataframe thead th {\n",
       "        text-align: right;\n",
       "    }\n",
       "</style>\n",
       "<table border=\"1\" class=\"dataframe\">\n",
       "  <thead>\n",
       "    <tr style=\"text-align: right;\">\n",
       "      <th></th>\n",
       "      <th>text</th>\n",
       "      <th>category</th>\n",
       "      <th>label_num</th>\n",
       "      <th>preprocessed_text</th>\n",
       "      <th>vector</th>\n",
       "    </tr>\n",
       "  </thead>\n",
       "  <tbody>\n",
       "    <tr>\n",
       "      <th>0</th>\n",
       "      <td>Larry Nassar Blames His Victims, Says He 'Was ...</td>\n",
       "      <td>CRIME</td>\n",
       "      <td>0</td>\n",
       "      <td>Larry Nassar blame victim say victimize newly ...</td>\n",
       "      <td>[-0.5585511, -0.29323253, -0.9253956, 0.189389...</td>\n",
       "    </tr>\n",
       "    <tr>\n",
       "      <th>1</th>\n",
       "      <td>Woman Beats Cancer, Dies Falling From Horse</td>\n",
       "      <td>CRIME</td>\n",
       "      <td>0</td>\n",
       "      <td>woman Beats Cancer die fall horse</td>\n",
       "      <td>[-0.73039824, -0.43196002, -1.2930516, -1.0628...</td>\n",
       "    </tr>\n",
       "    <tr>\n",
       "      <th>2</th>\n",
       "      <td>Vegas Taxpayers Could Spend A Record $750 Mill...</td>\n",
       "      <td>SPORTS</td>\n",
       "      <td>1</td>\n",
       "      <td>vegas taxpayer spend Record $ 750 million New ...</td>\n",
       "      <td>[-1.9413117, 0.121578515, -3.2996283, 1.511650...</td>\n",
       "    </tr>\n",
       "    <tr>\n",
       "      <th>3</th>\n",
       "      <td>This Richard Sherman Interception Literally Sh...</td>\n",
       "      <td>SPORTS</td>\n",
       "      <td>1</td>\n",
       "      <td>Richard Sherman Interception literally shake W...</td>\n",
       "      <td>[-1.4702771, -0.685319, 0.57398, -0.31135806, ...</td>\n",
       "    </tr>\n",
       "    <tr>\n",
       "      <th>4</th>\n",
       "      <td>7 Things That Could Totally Kill Weed Legaliza...</td>\n",
       "      <td>BUSINESS</td>\n",
       "      <td>2</td>\n",
       "      <td>7 thing totally kill Weed Legalization Buzz</td>\n",
       "      <td>[-1.037173, -1.9495698, -1.7179357, 1.2975286,...</td>\n",
       "    </tr>\n",
       "  </tbody>\n",
       "</table>\n",
       "</div>"
      ],
      "text/plain": [
       "                                                text  category  label_num  \\\n",
       "0  Larry Nassar Blames His Victims, Says He 'Was ...     CRIME          0   \n",
       "1       Woman Beats Cancer, Dies Falling From Horse      CRIME          0   \n",
       "2  Vegas Taxpayers Could Spend A Record $750 Mill...    SPORTS          1   \n",
       "3  This Richard Sherman Interception Literally Sh...    SPORTS          1   \n",
       "4  7 Things That Could Totally Kill Weed Legaliza...  BUSINESS          2   \n",
       "\n",
       "                                   preprocessed_text  \\\n",
       "0  Larry Nassar blame victim say victimize newly ...   \n",
       "1                  woman Beats Cancer die fall horse   \n",
       "2  vegas taxpayer spend Record $ 750 million New ...   \n",
       "3  Richard Sherman Interception literally shake W...   \n",
       "4        7 thing totally kill Weed Legalization Buzz   \n",
       "\n",
       "                                              vector  \n",
       "0  [-0.5585511, -0.29323253, -0.9253956, 0.189389...  \n",
       "1  [-0.73039824, -0.43196002, -1.2930516, -1.0628...  \n",
       "2  [-1.9413117, 0.121578515, -3.2996283, 1.511650...  \n",
       "3  [-1.4702771, -0.685319, 0.57398, -0.31135806, ...  \n",
       "4  [-1.037173, -1.9495698, -1.7179357, 1.2975286,...  "
      ]
     },
     "execution_count": 12,
     "metadata": {},
     "output_type": "execute_result"
    }
   ],
   "source": [
    "df['vector'] = df['preprocessed_text'].apply(lambda text: nlp(text).vector) \n",
    "df.head(5)"
   ]
  },
  {
   "cell_type": "code",
   "execution_count": 15,
   "id": "d55b85ee",
   "metadata": {},
   "outputs": [],
   "source": [
    "from sklearn.model_selection import train_test_split\n",
    "\n",
    "\n",
    "#Do the 'train-test' splitting with test size of 20% with random state of 2022 and stratify sampling too\n",
    "X_train, X_test, y_train, y_test = train_test_split(\n",
    "    df.vector.values, \n",
    "    df.label_num, \n",
    "    test_size=0.2, # 20% samples will go to test dataset\n",
    "    random_state=2022,\n",
    "    stratify=df.label_num\n",
    ")"
   ]
  },
  {
   "cell_type": "code",
   "execution_count": 16,
   "id": "76705bb4",
   "metadata": {},
   "outputs": [
    {
     "name": "stdout",
     "output_type": "stream",
     "text": [
      "Shape of X_train before reshaping:  (6000,)\n",
      "Shape of X_test before reshaping:  (1500,)\n",
      "Shape of X_train after reshaping:  (6000, 300)\n",
      "Shape of X_test after reshaping:  (1500, 300)\n"
     ]
    }
   ],
   "source": [
    "import numpy as np\n",
    "\n",
    "print(\"Shape of X_train before reshaping: \", X_train.shape)\n",
    "print(\"Shape of X_test before reshaping: \", X_test.shape)\n",
    "\n",
    "\n",
    "X_train_2d = np.stack(X_train)\n",
    "X_test_2d =  np.stack(X_test)\n",
    "\n",
    "print(\"Shape of X_train after reshaping: \", X_train_2d.shape)\n",
    "print(\"Shape of X_test after reshaping: \", X_test_2d.shape)"
   ]
  },
  {
   "cell_type": "markdown",
   "id": "fac125cf",
   "metadata": {},
   "source": [
    "Attempt 1:\n",
    "\n",
    "use spacy glove embeddings for text vectorization.\n",
    "\n",
    "use Decision Tree as the classifier.\n",
    "\n",
    "print the classification report."
   ]
  },
  {
   "cell_type": "code",
   "execution_count": 18,
   "id": "7432a45f",
   "metadata": {},
   "outputs": [
    {
     "name": "stdout",
     "output_type": "stream",
     "text": [
      "              precision    recall  f1-score   support\n",
      "\n",
      "           0       0.72      0.74      0.73       500\n",
      "           1       0.70      0.73      0.72       500\n",
      "           2       0.76      0.71      0.73       500\n",
      "\n",
      "    accuracy                           0.73      1500\n",
      "   macro avg       0.73      0.73      0.73      1500\n",
      "weighted avg       0.73      0.73      0.73      1500\n",
      "\n"
     ]
    }
   ],
   "source": [
    "from sklearn.tree import DecisionTreeClassifier\n",
    "from sklearn.metrics import classification_report\n",
    "#1. creating a Decision Tree model object\n",
    "clf = DecisionTreeClassifier()\n",
    "\n",
    "#2. fit with all_train_embeddings and y_train\n",
    "clf.fit(X_train_2d, y_train)\n",
    "\n",
    "#3. get the predictions for all_test_embeddings and store it in y_pred\n",
    "y_pred = clf.predict(X_test_2d)\n",
    "\n",
    "#4. print the classfication report\n",
    "print(classification_report(y_test, y_pred))"
   ]
  },
  {
   "cell_type": "markdown",
   "id": "89b24a41",
   "metadata": {},
   "source": [
    "Attempt 2:\n",
    "\n",
    "use spacy glove embeddings for text vectorization.\n",
    "use MultinomialNB as the classifier after applying the MinMaxscaler.\n",
    "print the classification report."
   ]
  },
  {
   "cell_type": "code",
   "execution_count": 19,
   "id": "a69bcf58",
   "metadata": {},
   "outputs": [
    {
     "name": "stdout",
     "output_type": "stream",
     "text": [
      "              precision    recall  f1-score   support\n",
      "\n",
      "           0       0.85      0.90      0.87       500\n",
      "           1       0.85      0.77      0.81       500\n",
      "           2       0.80      0.83      0.82       500\n",
      "\n",
      "    accuracy                           0.83      1500\n",
      "   macro avg       0.83      0.83      0.83      1500\n",
      "weighted avg       0.83      0.83      0.83      1500\n",
      "\n"
     ]
    }
   ],
   "source": [
    "from sklearn.naive_bayes import MultinomialNB\n",
    "from sklearn.preprocessing import MinMaxScaler\n",
    "from sklearn.metrics import classification_report\n",
    "\n",
    "#doing scaling because Negative values will not pass into Naive Bayes models\n",
    "scaler = MinMaxScaler()                                         \n",
    "scaled_train_embed = scaler.fit_transform(X_train_2d)\n",
    "scaled_test_embed = scaler.transform(X_test_2d)\n",
    "\n",
    "#1. creating a MultinomialNB model object \n",
    "clf = MultinomialNB()\n",
    "\n",
    "#2. fit with all_train_embeddings and y_train\n",
    "clf.fit(scaled_train_embed , y_train) \n",
    "\n",
    "#3. get the predictions for all_test_embeddings and store it in y_pred\n",
    "y_pred = clf.predict(scaled_test_embed)\n",
    "\n",
    "#4. print the classfication report\n",
    "print(classification_report(y_test, y_pred))"
   ]
  },
  {
   "cell_type": "markdown",
   "id": "13a4750d",
   "metadata": {},
   "source": [
    "Attempt 3:\n",
    "\n",
    "use spacy glove embeddings for text vectorization.\n",
    "use KNeighborsClassifier as the classifier after applying the MinMaxscaler.\n",
    "print the classification report."
   ]
  },
  {
   "cell_type": "code",
   "execution_count": 20,
   "id": "8a52627e",
   "metadata": {},
   "outputs": [
    {
     "name": "stdout",
     "output_type": "stream",
     "text": [
      "              precision    recall  f1-score   support\n",
      "\n",
      "           0       0.83      0.94      0.88       500\n",
      "           1       0.92      0.81      0.86       500\n",
      "           2       0.88      0.87      0.88       500\n",
      "\n",
      "    accuracy                           0.87      1500\n",
      "   macro avg       0.88      0.87      0.87      1500\n",
      "weighted avg       0.88      0.87      0.87      1500\n",
      "\n"
     ]
    }
   ],
   "source": [
    "from  sklearn.neighbors import KNeighborsClassifier\n",
    "\n",
    "#1. creating a KNN model object\n",
    "clf = KNeighborsClassifier(n_neighbors = 5, metric = 'euclidean')\n",
    "\n",
    "#2. fit with all_train_embeddings and y_train\n",
    "clf.fit(X_train_2d, y_train)\n",
    "\n",
    "#3. get the predictions for all_test_embeddings and store it in y_pred\n",
    "y_pred = clf.predict(X_test_2d)\n",
    "\n",
    "#4. print the classfication report\n",
    "print(classification_report(y_test, y_pred))"
   ]
  },
  {
   "cell_type": "markdown",
   "id": "4d510a44",
   "metadata": {},
   "source": [
    "Attempt 4:\n",
    "\n",
    "use spacy glove embeddings for text vectorization.\n",
    "use RandomForestClassifier as the classifier after applying the MinMaxscaler.\n",
    "print the classification report."
   ]
  },
  {
   "cell_type": "code",
   "execution_count": 21,
   "id": "92904231",
   "metadata": {},
   "outputs": [
    {
     "name": "stdout",
     "output_type": "stream",
     "text": [
      "              precision    recall  f1-score   support\n",
      "\n",
      "           0       0.86      0.91      0.89       500\n",
      "           1       0.90      0.83      0.87       500\n",
      "           2       0.86      0.88      0.87       500\n",
      "\n",
      "    accuracy                           0.88      1500\n",
      "   macro avg       0.88      0.88      0.88      1500\n",
      "weighted avg       0.88      0.88      0.88      1500\n",
      "\n"
     ]
    }
   ],
   "source": [
    "from sklearn.ensemble import RandomForestClassifier\n",
    "\n",
    "#1. creating a Random Forest model object\n",
    "clf = RandomForestClassifier()\n",
    "\n",
    "#2. fit with all_train_embeddings and y_train\n",
    "clf.fit(X_train_2d, y_train)\n",
    "\n",
    "#3. get the predictions for all_test_embeddings and store it in y_pred\n",
    "y_pred = clf.predict(X_test_2d)\n",
    "\n",
    "#4. print the classfication report\n",
    "print(classification_report(y_test, y_pred))"
   ]
  },
  {
   "cell_type": "markdown",
   "id": "50739111",
   "metadata": {},
   "source": [
    "Attempt 5:\n",
    "\n",
    "use spacy glove embeddings for text vectorization.\n",
    "use GradientBoostingClassifier as the classifier after applying the MinMaxscaler.\n",
    "print the classification report."
   ]
  },
  {
   "cell_type": "code",
   "execution_count": 22,
   "id": "4870ab39",
   "metadata": {},
   "outputs": [
    {
     "name": "stdout",
     "output_type": "stream",
     "text": [
      "              precision    recall  f1-score   support\n",
      "\n",
      "           0       0.90      0.90      0.90       500\n",
      "           1       0.91      0.87      0.89       500\n",
      "           2       0.88      0.92      0.90       500\n",
      "\n",
      "    accuracy                           0.90      1500\n",
      "   macro avg       0.90      0.90      0.90      1500\n",
      "weighted avg       0.90      0.90      0.90      1500\n",
      "\n"
     ]
    }
   ],
   "source": [
    "from sklearn.ensemble import GradientBoostingClassifier\n",
    "\n",
    "#1. creating a GradientBoosting model object\n",
    "clf = GradientBoostingClassifier()\n",
    "\n",
    "#2. fit with all_train_embeddings and y_train\n",
    "clf.fit(X_train_2d, y_train)\n",
    "\n",
    "#3. get the predictions for all_test_embeddings and store it in y_pred\n",
    "y_pred = clf.predict(X_test_2d)\n",
    "\n",
    "#4. print the classfication report\n",
    "print(classification_report(y_test, y_pred))"
   ]
  },
  {
   "cell_type": "code",
   "execution_count": 23,
   "id": "abb01dc2",
   "metadata": {},
   "outputs": [
    {
     "data": {
      "text/plain": [
       "Text(95.72222222222221, 0.5, 'Truth')"
      ]
     },
     "execution_count": 23,
     "metadata": {},
     "output_type": "execute_result"
    },
    {
     "data": {
      "image/png": "[encoded data removed]",
      "text/plain": [
       "<Figure size 1000x700 with 2 Axes>"
      ]
     },
     "metadata": {},
     "output_type": "display_data"
    }
   ],
   "source": [
    "#finally print the confusion matrix for the best model: GradientBoostingClassifier\n",
    "\n",
    "from sklearn.metrics import confusion_matrix\n",
    "cm = confusion_matrix(y_test, y_pred)\n",
    "cm\n",
    "\n",
    "from matplotlib import pyplot as plt\n",
    "import seaborn as sn\n",
    "plt.figure(figsize = (10,7))\n",
    "sn.heatmap(cm, annot=True, fmt='d')\n",
    "plt.xlabel('Prediction')\n",
    "plt.ylabel('Truth')"
   ]
  },
  {
   "cell_type": "code",
   "execution_count": null,
   "id": "b7892d7b",
   "metadata": {},
   "outputs": [],
   "source": []
  },
  {
   "cell_type": "code",
   "execution_count": null,
   "id": "915148f4",
   "metadata": {},
   "outputs": [],
   "source": []
  },
  {
   "cell_type": "code",
   "execution_count": null,
   "id": "456d7ee9",
   "metadata": {},
   "outputs": [],
   "source": []
  }
 ],
 "metadata": {
  "kernelspec": {
   "display_name": "Python 3 (ipykernel)",
   "language": "python",
   "name": "python3"
  },
  "language_info": {
   "codemirror_mode": {
    "name": "ipython",
    "version": 3
   },
   "file_extension": ".py",
   "mimetype": "text/x-python",
   "name": "python",
   "nbconvert_exporter": "python",
   "pygments_lexer": "ipython3",
   "version": "3.9.1"
  }
 },
 "nbformat": 4,
 "nbformat_minor": 5
}
